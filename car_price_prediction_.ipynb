{
  "nbformat": 4,
  "nbformat_minor": 0,
  "metadata": {
    "kernelspec": {
      "display_name": "Python 3",
      "language": "python",
      "name": "python3"
    },
    "language_info": {
      "codemirror_mode": {
        "name": "ipython",
        "version": 3
      },
      "file_extension": ".py",
      "mimetype": "text/x-python",
      "name": "python",
      "nbconvert_exporter": "python",
      "pygments_lexer": "ipython3",
      "version": "3.7.4"
    },
    "colab": {
      "name": "car_price_prediction .ipynb",
      "provenance": []
    }
  },
  "cells": [
    {
      "cell_type": "code",
      "metadata": {
        "id": "RfHMve1IOKyY",
        "colab_type": "code",
        "colab": {}
      },
      "source": [
        "import numpy as np\n",
        "import pandas as pd\n",
        "import matplotlib.pyplot as plt\n",
        "import seaborn as sns\n",
        "from sklearn.model_selection import train_test_split\n",
        "from sklearn.linear_model import LinearRegression\n",
        "%matplotlib inline"
      ],
      "execution_count": 0,
      "outputs": []
    },
    {
      "cell_type": "code",
      "metadata": {
        "id": "08WMi6BdOKyd",
        "colab_type": "code",
        "colab": {}
      },
      "source": [
        "df=pd.read_csv(r\"C:\\Users\\DELL\\Desktop\\ape.csv\")"
      ],
      "execution_count": 0,
      "outputs": []
    },
    {
      "cell_type": "code",
      "metadata": {
        "id": "LQH6UNkSOKyh",
        "colab_type": "code",
        "colab": {}
      },
      "source": [
        "df=df.astype('float')"
      ],
      "execution_count": 0,
      "outputs": []
    },
    {
      "cell_type": "code",
      "metadata": {
        "id": "YKnsBkaYOKyk",
        "colab_type": "code",
        "outputId": "eb43a9ec-a27c-4b24-a240-ab095e931877",
        "colab": {}
      },
      "source": [
        "df"
      ],
      "execution_count": 0,
      "outputs": [
        {
          "output_type": "execute_result",
          "data": {
            "text/html": [
              "<div>\n",
              "<style scoped>\n",
              "    .dataframe tbody tr th:only-of-type {\n",
              "        vertical-align: middle;\n",
              "    }\n",
              "\n",
              "    .dataframe tbody tr th {\n",
              "        vertical-align: top;\n",
              "    }\n",
              "\n",
              "    .dataframe thead th {\n",
              "        text-align: right;\n",
              "    }\n",
              "</style>\n",
              "<table border=\"1\" class=\"dataframe\">\n",
              "  <thead>\n",
              "    <tr style=\"text-align: right;\">\n",
              "      <th></th>\n",
              "      <th>Cylinders</th>\n",
              "      <th>Horsepower</th>\n",
              "      <th>MPG_City</th>\n",
              "      <th>MPG_Highway</th>\n",
              "      <th>Weight</th>\n",
              "      <th>Wheelbase</th>\n",
              "      <th>Length</th>\n",
              "      <th>MSRP</th>\n",
              "    </tr>\n",
              "  </thead>\n",
              "  <tbody>\n",
              "    <tr>\n",
              "      <td>0</td>\n",
              "      <td>6.0</td>\n",
              "      <td>265.0</td>\n",
              "      <td>17.0</td>\n",
              "      <td>23.0</td>\n",
              "      <td>4451.0</td>\n",
              "      <td>106.0</td>\n",
              "      <td>189.0</td>\n",
              "      <td>36945.0</td>\n",
              "    </tr>\n",
              "    <tr>\n",
              "      <td>1</td>\n",
              "      <td>4.0</td>\n",
              "      <td>200.0</td>\n",
              "      <td>24.0</td>\n",
              "      <td>31.0</td>\n",
              "      <td>2778.0</td>\n",
              "      <td>101.0</td>\n",
              "      <td>172.0</td>\n",
              "      <td>23820.0</td>\n",
              "    </tr>\n",
              "    <tr>\n",
              "      <td>2</td>\n",
              "      <td>4.0</td>\n",
              "      <td>200.0</td>\n",
              "      <td>22.0</td>\n",
              "      <td>29.0</td>\n",
              "      <td>3230.0</td>\n",
              "      <td>105.0</td>\n",
              "      <td>183.0</td>\n",
              "      <td>26990.0</td>\n",
              "    </tr>\n",
              "    <tr>\n",
              "      <td>3</td>\n",
              "      <td>6.0</td>\n",
              "      <td>270.0</td>\n",
              "      <td>20.0</td>\n",
              "      <td>28.0</td>\n",
              "      <td>3575.0</td>\n",
              "      <td>108.0</td>\n",
              "      <td>186.0</td>\n",
              "      <td>33195.0</td>\n",
              "    </tr>\n",
              "    <tr>\n",
              "      <td>4</td>\n",
              "      <td>6.0</td>\n",
              "      <td>225.0</td>\n",
              "      <td>18.0</td>\n",
              "      <td>24.0</td>\n",
              "      <td>3880.0</td>\n",
              "      <td>115.0</td>\n",
              "      <td>197.0</td>\n",
              "      <td>43755.0</td>\n",
              "    </tr>\n",
              "    <tr>\n",
              "      <td>...</td>\n",
              "      <td>...</td>\n",
              "      <td>...</td>\n",
              "      <td>...</td>\n",
              "      <td>...</td>\n",
              "      <td>...</td>\n",
              "      <td>...</td>\n",
              "      <td>...</td>\n",
              "      <td>...</td>\n",
              "    </tr>\n",
              "    <tr>\n",
              "      <td>423</td>\n",
              "      <td>5.0</td>\n",
              "      <td>197.0</td>\n",
              "      <td>21.0</td>\n",
              "      <td>28.0</td>\n",
              "      <td>3450.0</td>\n",
              "      <td>105.0</td>\n",
              "      <td>186.0</td>\n",
              "      <td>40565.0</td>\n",
              "    </tr>\n",
              "    <tr>\n",
              "      <td>424</td>\n",
              "      <td>5.0</td>\n",
              "      <td>242.0</td>\n",
              "      <td>20.0</td>\n",
              "      <td>26.0</td>\n",
              "      <td>3450.0</td>\n",
              "      <td>105.0</td>\n",
              "      <td>186.0</td>\n",
              "      <td>42565.0</td>\n",
              "    </tr>\n",
              "    <tr>\n",
              "      <td>425</td>\n",
              "      <td>6.0</td>\n",
              "      <td>268.0</td>\n",
              "      <td>19.0</td>\n",
              "      <td>26.0</td>\n",
              "      <td>3653.0</td>\n",
              "      <td>110.0</td>\n",
              "      <td>190.0</td>\n",
              "      <td>45210.0</td>\n",
              "    </tr>\n",
              "    <tr>\n",
              "      <td>426</td>\n",
              "      <td>4.0</td>\n",
              "      <td>170.0</td>\n",
              "      <td>22.0</td>\n",
              "      <td>29.0</td>\n",
              "      <td>2822.0</td>\n",
              "      <td>101.0</td>\n",
              "      <td>180.0</td>\n",
              "      <td>26135.0</td>\n",
              "    </tr>\n",
              "    <tr>\n",
              "      <td>427</td>\n",
              "      <td>5.0</td>\n",
              "      <td>208.0</td>\n",
              "      <td>20.0</td>\n",
              "      <td>27.0</td>\n",
              "      <td>3823.0</td>\n",
              "      <td>109.0</td>\n",
              "      <td>186.0</td>\n",
              "      <td>35145.0</td>\n",
              "    </tr>\n",
              "  </tbody>\n",
              "</table>\n",
              "<p>428 rows × 8 columns</p>\n",
              "</div>"
            ],
            "text/plain": [
              "     Cylinders  Horsepower  MPG_City  MPG_Highway  Weight  Wheelbase  Length  \\\n",
              "0          6.0       265.0      17.0         23.0  4451.0      106.0   189.0   \n",
              "1          4.0       200.0      24.0         31.0  2778.0      101.0   172.0   \n",
              "2          4.0       200.0      22.0         29.0  3230.0      105.0   183.0   \n",
              "3          6.0       270.0      20.0         28.0  3575.0      108.0   186.0   \n",
              "4          6.0       225.0      18.0         24.0  3880.0      115.0   197.0   \n",
              "..         ...         ...       ...          ...     ...        ...     ...   \n",
              "423        5.0       197.0      21.0         28.0  3450.0      105.0   186.0   \n",
              "424        5.0       242.0      20.0         26.0  3450.0      105.0   186.0   \n",
              "425        6.0       268.0      19.0         26.0  3653.0      110.0   190.0   \n",
              "426        4.0       170.0      22.0         29.0  2822.0      101.0   180.0   \n",
              "427        5.0       208.0      20.0         27.0  3823.0      109.0   186.0   \n",
              "\n",
              "        MSRP  \n",
              "0    36945.0  \n",
              "1    23820.0  \n",
              "2    26990.0  \n",
              "3    33195.0  \n",
              "4    43755.0  \n",
              "..       ...  \n",
              "423  40565.0  \n",
              "424  42565.0  \n",
              "425  45210.0  \n",
              "426  26135.0  \n",
              "427  35145.0  \n",
              "\n",
              "[428 rows x 8 columns]"
            ]
          },
          "metadata": {
            "tags": []
          },
          "execution_count": 5
        }
      ]
    },
    {
      "cell_type": "code",
      "metadata": {
        "id": "aYgfBHAvOKyo",
        "colab_type": "code",
        "colab": {}
      },
      "source": [
        "df=df.drop(['Cylinders'],axis=1)"
      ],
      "execution_count": 0,
      "outputs": []
    },
    {
      "cell_type": "code",
      "metadata": {
        "id": "j3X68hM4OKyq",
        "colab_type": "code",
        "outputId": "61a9cb45-9800-425a-d67f-dabfa6424437",
        "colab": {}
      },
      "source": [
        "plt1 = sns.scatterplot(x = 'Horsepower', y = 'MSRP', data = df)\n",
        "plt1.set_xlabel('Horsepower')\n",
        "plt1.set_ylabel('Price of Car (Dollars)')"
      ],
      "execution_count": 0,
      "outputs": [
        {
          "output_type": "execute_result",
          "data": {
            "text/plain": [
              "Text(0, 0.5, 'Price of Car (Dollars)')"
            ]
          },
          "metadata": {
            "tags": []
          },
          "execution_count": 7
        },
        {
          "output_type": "display_data",
          "data": {
            "image/png": "[encoded data removed]",
            "text/plain": [
              "<Figure size 432x288 with 1 Axes>"
            ]
          },
          "metadata": {
            "tags": [],
            "needs_background": "light"
          }
        }
      ]
    },
    {
      "cell_type": "code",
      "metadata": {
        "id": "TurZliU_OKyt",
        "colab_type": "code",
        "outputId": "41f2397b-8c58-443a-f377-d6420153a7a3",
        "colab": {}
      },
      "source": [
        "plt1 = sns.scatterplot(x = 'MPG_City', y = 'MSRP', data = df)\n",
        "plt1.set_xlabel('mpg_city')\n",
        "plt1.set_ylabel('Price of Car (Dollars)')"
      ],
      "execution_count": 0,
      "outputs": [
        {
          "output_type": "execute_result",
          "data": {
            "text/plain": [
              "Text(0, 0.5, 'Price of Car (Dollars)')"
            ]
          },
          "metadata": {
            "tags": []
          },
          "execution_count": 8
        },
        {
          "output_type": "display_data",
          "data": {
            "image/png": "[encoded data removed]",
            "text/plain": [
              "<Figure size 432x288 with 1 Axes>"
            ]
          },
          "metadata": {
            "tags": [],
            "needs_background": "light"
          }
        }
      ]
    },
    {
      "cell_type": "code",
      "metadata": {
        "id": "d1F4rxroOKyw",
        "colab_type": "code",
        "outputId": "fbb6743b-d17d-4ee7-8cbb-44024c75223a",
        "colab": {}
      },
      "source": [
        "plt1 = sns.scatterplot(x = 'MPG_Highway', y = 'MSRP', data = df)\n",
        "plt1.set_xlabel('mpg_highway')\n",
        "plt1.set_ylabel('Price of Car (Dollars)')"
      ],
      "execution_count": 0,
      "outputs": [
        {
          "output_type": "execute_result",
          "data": {
            "text/plain": [
              "Text(0, 0.5, 'Price of Car (Dollars)')"
            ]
          },
          "metadata": {
            "tags": []
          },
          "execution_count": 9
        },
        {
          "output_type": "display_data",
          "data": {
            "image/png": "[encoded data removed]",
            "text/plain": [
              "<Figure size 432x288 with 1 Axes>"
            ]
          },
          "metadata": {
            "tags": [],
            "needs_background": "light"
          }
        }
      ]
    },
    {
      "cell_type": "code",
      "metadata": {
        "id": "E9vU_1hHOKyz",
        "colab_type": "code",
        "outputId": "d44211a6-a998-423e-b73b-0e5baf7bb203",
        "colab": {}
      },
      "source": [
        "plt1 = sns.scatterplot(x = 'Weight', y = 'MSRP', data = df)\n",
        "plt1.set_xlabel('weight')\n",
        "plt1.set_ylabel('Price of Car (Dollars)')"
      ],
      "execution_count": 0,
      "outputs": [
        {
          "output_type": "execute_result",
          "data": {
            "text/plain": [
              "Text(0, 0.5, 'Price of Car (Dollars)')"
            ]
          },
          "metadata": {
            "tags": []
          },
          "execution_count": 10
        },
        {
          "output_type": "display_data",
          "data": {
            "image/png": "[encoded data removed]",
            "text/plain": [
              "<Figure size 432x288 with 1 Axes>"
            ]
          },
          "metadata": {
            "tags": [],
            "needs_background": "light"
          }
        }
      ]
    },
    {
      "cell_type": "code",
      "metadata": {
        "id": "8NsTufA8OKy1",
        "colab_type": "code",
        "outputId": "114f11c9-5406-4ff2-88ca-e2a57daa6592",
        "colab": {}
      },
      "source": [
        "plt1 = sns.scatterplot(x = 'Wheelbase', y = 'MSRP', data = df)\n",
        "plt1.set_xlabel('wheelbase')\n",
        "plt1.set_ylabel('Price of Car (Dollars)')"
      ],
      "execution_count": 0,
      "outputs": [
        {
          "output_type": "execute_result",
          "data": {
            "text/plain": [
              "Text(0, 0.5, 'Price of Car (Dollars)')"
            ]
          },
          "metadata": {
            "tags": []
          },
          "execution_count": 11
        },
        {
          "output_type": "display_data",
          "data": {
            "image/png": "[encoded data removed]",
            "text/plain": [
              "<Figure size 432x288 with 1 Axes>"
            ]
          },
          "metadata": {
            "tags": [],
            "needs_background": "light"
          }
        }
      ]
    },
    {
      "cell_type": "code",
      "metadata": {
        "id": "wk7mV-B4OKy5",
        "colab_type": "code",
        "outputId": "d75ada92-4762-4fa4-8bac-988731f28797",
        "colab": {}
      },
      "source": [
        "plt1 = sns.scatterplot(x = 'Length', y = 'MSRP', data = df)\n",
        "plt1.set_xlabel('length')\n",
        "plt1.set_ylabel('Price of Car (Dollars)')"
      ],
      "execution_count": 0,
      "outputs": [
        {
          "output_type": "execute_result",
          "data": {
            "text/plain": [
              "Text(0, 0.5, 'Price of Car (Dollars)')"
            ]
          },
          "metadata": {
            "tags": []
          },
          "execution_count": 12
        },
        {
          "output_type": "display_data",
          "data": {
            "image/png": "[encoded data removed]",
            "text/plain": [
              "<Figure size 432x288 with 1 Axes>"
            ]
          },
          "metadata": {
            "tags": [],
            "needs_background": "light"
          }
        }
      ]
    },
    {
      "cell_type": "code",
      "metadata": {
        "id": "Uu7PgQCbOKy7",
        "colab_type": "code",
        "outputId": "7a95762c-aebc-4212-83ae-0bf0b0b8dc3d",
        "colab": {}
      },
      "source": [
        "df.describe"
      ],
      "execution_count": 0,
      "outputs": [
        {
          "output_type": "execute_result",
          "data": {
            "text/plain": [
              "<bound method NDFrame.describe of      Horsepower  MPG_City  MPG_Highway  Weight  Wheelbase  Length     MSRP\n",
              "0         265.0      17.0         23.0  4451.0      106.0   189.0  36945.0\n",
              "1         200.0      24.0         31.0  2778.0      101.0   172.0  23820.0\n",
              "2         200.0      22.0         29.0  3230.0      105.0   183.0  26990.0\n",
              "3         270.0      20.0         28.0  3575.0      108.0   186.0  33195.0\n",
              "4         225.0      18.0         24.0  3880.0      115.0   197.0  43755.0\n",
              "..          ...       ...          ...     ...        ...     ...      ...\n",
              "423       197.0      21.0         28.0  3450.0      105.0   186.0  40565.0\n",
              "424       242.0      20.0         26.0  3450.0      105.0   186.0  42565.0\n",
              "425       268.0      19.0         26.0  3653.0      110.0   190.0  45210.0\n",
              "426       170.0      22.0         29.0  2822.0      101.0   180.0  26135.0\n",
              "427       208.0      20.0         27.0  3823.0      109.0   186.0  35145.0\n",
              "\n",
              "[428 rows x 7 columns]>"
            ]
          },
          "metadata": {
            "tags": []
          },
          "execution_count": 13
        }
      ]
    },
    {
      "cell_type": "code",
      "metadata": {
        "id": "-W_zt_dGOKy9",
        "colab_type": "code",
        "outputId": "0ee8bb0b-23d6-412c-efcb-249a19268d35",
        "colab": {}
      },
      "source": [
        "df.info()"
      ],
      "execution_count": 0,
      "outputs": [
        {
          "output_type": "stream",
          "text": [
            "<class 'pandas.core.frame.DataFrame'>\n",
            "RangeIndex: 428 entries, 0 to 427\n",
            "Data columns (total 7 columns):\n",
            "Horsepower     428 non-null float64\n",
            "MPG_City       428 non-null float64\n",
            "MPG_Highway    428 non-null float64\n",
            "Weight         428 non-null float64\n",
            "Wheelbase      428 non-null float64\n",
            "Length         428 non-null float64\n",
            "MSRP           428 non-null float64\n",
            "dtypes: float64(7)\n",
            "memory usage: 23.5 KB\n"
          ],
          "name": "stdout"
        }
      ]
    },
    {
      "cell_type": "code",
      "metadata": {
        "id": "VWY8uX4DOKy_",
        "colab_type": "code",
        "outputId": "d30e6550-bff0-49f9-f8b4-d338d5836911",
        "colab": {}
      },
      "source": [
        "df.columns"
      ],
      "execution_count": 0,
      "outputs": [
        {
          "output_type": "execute_result",
          "data": {
            "text/plain": [
              "Index(['Horsepower', 'MPG_City', 'MPG_Highway', 'Weight', 'Wheelbase',\n",
              "       'Length', 'MSRP'],\n",
              "      dtype='object')"
            ]
          },
          "metadata": {
            "tags": []
          },
          "execution_count": 15
        }
      ]
    },
    {
      "cell_type": "code",
      "metadata": {
        "id": "4Z5EO7thOKzC",
        "colab_type": "code",
        "colab": {}
      },
      "source": [
        "#check duplicates\n",
        "#sum(df.duplicated(subset='Cylinders')) == 0"
      ],
      "execution_count": 0,
      "outputs": []
    },
    {
      "cell_type": "code",
      "metadata": {
        "id": "4qa2w71mOKzH",
        "colab_type": "code",
        "outputId": "5842a4af-d31b-408f-bdf2-0e53b882d53f",
        "colab": {}
      },
      "source": [
        "#check null values\n",
        "df.isnull().sum()*100/df.shape[0]"
      ],
      "execution_count": 0,
      "outputs": [
        {
          "output_type": "execute_result",
          "data": {
            "text/plain": [
              "Horsepower     0.0\n",
              "MPG_City       0.0\n",
              "MPG_Highway    0.0\n",
              "Weight         0.0\n",
              "Wheelbase      0.0\n",
              "Length         0.0\n",
              "MSRP           0.0\n",
              "dtype: float64"
            ]
          },
          "metadata": {
            "tags": []
          },
          "execution_count": 17
        }
      ]
    },
    {
      "cell_type": "code",
      "metadata": {
        "id": "xKmnNHcOOKzK",
        "colab_type": "code",
        "colab": {}
      },
      "source": [
        "#df=df.drop(['Cylinders'],axis=\"columns\")"
      ],
      "execution_count": 0,
      "outputs": []
    },
    {
      "cell_type": "code",
      "metadata": {
        "id": "JIqRlvS8OKzN",
        "colab_type": "code",
        "colab": {}
      },
      "source": [
        "#df.isnull().sum()*100/df.shape[0]"
      ],
      "execution_count": 0,
      "outputs": []
    },
    {
      "cell_type": "code",
      "metadata": {
        "id": "6NTxSmNyOKzP",
        "colab_type": "code",
        "colab": {}
      },
      "source": [
        "#df.MSRP.describe()"
      ],
      "execution_count": 0,
      "outputs": []
    },
    {
      "cell_type": "code",
      "metadata": {
        "id": "RHp8jScQOKzR",
        "colab_type": "code",
        "colab": {}
      },
      "source": [
        "#sns.distplot(df['MSRP'])"
      ],
      "execution_count": 0,
      "outputs": []
    },
    {
      "cell_type": "code",
      "metadata": {
        "id": "yEGqOHLmOKzU",
        "colab_type": "code",
        "outputId": "a9a1e101-d744-4bb8-ba4f-7570d6af30cb",
        "colab": {}
      },
      "source": [
        "#lets make linear regression model\n",
        "df.head()"
      ],
      "execution_count": 0,
      "outputs": [
        {
          "output_type": "execute_result",
          "data": {
            "text/html": [
              "<div>\n",
              "<style scoped>\n",
              "    .dataframe tbody tr th:only-of-type {\n",
              "        vertical-align: middle;\n",
              "    }\n",
              "\n",
              "    .dataframe tbody tr th {\n",
              "        vertical-align: top;\n",
              "    }\n",
              "\n",
              "    .dataframe thead th {\n",
              "        text-align: right;\n",
              "    }\n",
              "</style>\n",
              "<table border=\"1\" class=\"dataframe\">\n",
              "  <thead>\n",
              "    <tr style=\"text-align: right;\">\n",
              "      <th></th>\n",
              "      <th>Horsepower</th>\n",
              "      <th>MPG_City</th>\n",
              "      <th>MPG_Highway</th>\n",
              "      <th>Weight</th>\n",
              "      <th>Wheelbase</th>\n",
              "      <th>Length</th>\n",
              "      <th>MSRP</th>\n",
              "    </tr>\n",
              "  </thead>\n",
              "  <tbody>\n",
              "    <tr>\n",
              "      <td>0</td>\n",
              "      <td>265.0</td>\n",
              "      <td>17.0</td>\n",
              "      <td>23.0</td>\n",
              "      <td>4451.0</td>\n",
              "      <td>106.0</td>\n",
              "      <td>189.0</td>\n",
              "      <td>36945.0</td>\n",
              "    </tr>\n",
              "    <tr>\n",
              "      <td>1</td>\n",
              "      <td>200.0</td>\n",
              "      <td>24.0</td>\n",
              "      <td>31.0</td>\n",
              "      <td>2778.0</td>\n",
              "      <td>101.0</td>\n",
              "      <td>172.0</td>\n",
              "      <td>23820.0</td>\n",
              "    </tr>\n",
              "    <tr>\n",
              "      <td>2</td>\n",
              "      <td>200.0</td>\n",
              "      <td>22.0</td>\n",
              "      <td>29.0</td>\n",
              "      <td>3230.0</td>\n",
              "      <td>105.0</td>\n",
              "      <td>183.0</td>\n",
              "      <td>26990.0</td>\n",
              "    </tr>\n",
              "    <tr>\n",
              "      <td>3</td>\n",
              "      <td>270.0</td>\n",
              "      <td>20.0</td>\n",
              "      <td>28.0</td>\n",
              "      <td>3575.0</td>\n",
              "      <td>108.0</td>\n",
              "      <td>186.0</td>\n",
              "      <td>33195.0</td>\n",
              "    </tr>\n",
              "    <tr>\n",
              "      <td>4</td>\n",
              "      <td>225.0</td>\n",
              "      <td>18.0</td>\n",
              "      <td>24.0</td>\n",
              "      <td>3880.0</td>\n",
              "      <td>115.0</td>\n",
              "      <td>197.0</td>\n",
              "      <td>43755.0</td>\n",
              "    </tr>\n",
              "  </tbody>\n",
              "</table>\n",
              "</div>"
            ],
            "text/plain": [
              "   Horsepower  MPG_City  MPG_Highway  Weight  Wheelbase  Length     MSRP\n",
              "0       265.0      17.0         23.0  4451.0      106.0   189.0  36945.0\n",
              "1       200.0      24.0         31.0  2778.0      101.0   172.0  23820.0\n",
              "2       200.0      22.0         29.0  3230.0      105.0   183.0  26990.0\n",
              "3       270.0      20.0         28.0  3575.0      108.0   186.0  33195.0\n",
              "4       225.0      18.0         24.0  3880.0      115.0   197.0  43755.0"
            ]
          },
          "metadata": {
            "tags": []
          },
          "execution_count": 22
        }
      ]
    },
    {
      "cell_type": "code",
      "metadata": {
        "id": "YLkQkJ28OKzX",
        "colab_type": "code",
        "colab": {}
      },
      "source": [
        "#visvalization of numeric data ....\n",
        "#plt.figure(figsize=(6,6))\n",
        "#sns.pairplot(df)\n",
        "#plt.show()"
      ],
      "execution_count": 0,
      "outputs": []
    },
    {
      "cell_type": "code",
      "metadata": {
        "id": "9Pvj0CAMOKza",
        "colab_type": "code",
        "colab": {}
      },
      "source": [
        "#no need to change categorical to numeric with the help of dummy states\n",
        "#main model building\n",
        "#auto=df[['Horsepower','Weight','Wheelbase','Length','MSRP']]"
      ],
      "execution_count": 0,
      "outputs": []
    },
    {
      "cell_type": "code",
      "metadata": {
        "id": "_GEZjSGIOKzc",
        "colab_type": "code",
        "colab": {}
      },
      "source": [
        "#spliting the data set into training and testing sets\n",
        "from sklearn.model_selection import train_test_split\n",
        "#we r doing this so that train and test data set always have the same rows ,respectively\n",
        "#np.random.seed(0)\n",
        "#df_train,df_test=train_test_split(auto,train_size=0.8,test_size=0.2,random_state=0)"
      ],
      "execution_count": 0,
      "outputs": []
    },
    {
      "cell_type": "code",
      "metadata": {
        "id": "uW9SXNo1OKze",
        "colab_type": "code",
        "outputId": "a93a0dee-cb6e-403b-b425-925ee7210ee8",
        "colab": {}
      },
      "source": [
        "X=df.iloc[:, :-1].values\n",
        "y=df.iloc[:,4].values\n",
        "\n",
        "X_train,X_test,y_train,y_test=train_test_split(X,y,test_size=0.2,random_state=0)\n",
        "reg=LinearRegression()\n",
        "reg.fit(X_train,y_train)"
      ],
      "execution_count": 0,
      "outputs": [
        {
          "output_type": "execute_result",
          "data": {
            "text/plain": [
              "LinearRegression(copy_X=True, fit_intercept=True, n_jobs=None, normalize=False)"
            ]
          },
          "metadata": {
            "tags": []
          },
          "execution_count": 54
        }
      ]
    },
    {
      "cell_type": "code",
      "metadata": {
        "id": "uKIg0A56OKzh",
        "colab_type": "code",
        "colab": {}
      },
      "source": [
        "#now rescale the features\n",
        "#from sklearn.preprocessing import MinMaxScaler\n",
        "#scaler=MinMaxScaler()\n",
        "#num_vars=['Horsepower','Weight','Wheelbase','Length','MSRP']\n",
        "#df_train[num_vars]=scaler.fit_transform(df_train[num_vars])"
      ],
      "execution_count": 0,
      "outputs": []
    },
    {
      "cell_type": "code",
      "metadata": {
        "id": "e26rdHuOOKzl",
        "colab_type": "code",
        "colab": {}
      },
      "source": [
        "#df_train.head()"
      ],
      "execution_count": 0,
      "outputs": []
    },
    {
      "cell_type": "code",
      "metadata": {
        "id": "mjEvHQ_JOKzn",
        "colab_type": "code",
        "colab": {}
      },
      "source": [
        "#lets check correlatin coefficients\n",
        "#plt.figure(figsize=(6,6))\n",
        "#sns.heatmap(df_train.corr(),annot=True,cmap=\"Blues\")\n",
        "#plt.show()"
      ],
      "execution_count": 0,
      "outputs": []
    },
    {
      "cell_type": "code",
      "metadata": {
        "id": "6T0g8RALOKzp",
        "colab_type": "code",
        "colab": {}
      },
      "source": [
        "#divided into x and y sets for model building\n",
        "#y_train=df['MSRP']\n",
        "#X_train=df_train."
      ],
      "execution_count": 0,
      "outputs": []
    },
    {
      "cell_type": "code",
      "metadata": {
        "id": "BDbms7yOOKzr",
        "colab_type": "code",
        "outputId": "00cb8707-5ab7-47a5-bd2f-e5e999ca35f3",
        "colab": {}
      },
      "source": [
        "#impoting RFE and linear regression\n",
        "#recursive feature elimination\n",
        "#from sklearn.feature_selection import RFE\n",
        "#from sklearn.linear_model import LinearRegression\n",
        "#lm=LinearRegression()\n",
        "#lm.fit(X_train,y_train)\n",
        "#rfe=RFE(lm,10)\n",
        "#rfe=rfe.fit(X_train,y_train)"
      ],
      "execution_count": 0,
      "outputs": [
        {
          "output_type": "execute_result",
          "data": {
            "text/plain": [
              "LinearRegression(copy_X=True, fit_intercept=True, n_jobs=None, normalize=False)"
            ]
          },
          "metadata": {
            "tags": []
          },
          "execution_count": 59
        }
      ]
    },
    {
      "cell_type": "code",
      "metadata": {
        "id": "_Ktk1CXHOKzu",
        "colab_type": "code",
        "colab": {}
      },
      "source": [
        "#list(X_train.columns)"
      ],
      "execution_count": 0,
      "outputs": []
    },
    {
      "cell_type": "code",
      "metadata": {
        "id": "6nqcRUfiOKzx",
        "colab_type": "code",
        "colab": {}
      },
      "source": [
        "#making predictions\n",
        "#y_test=df_test.pop('MSRP')\n",
        "#X_test=df_test"
      ],
      "execution_count": 0,
      "outputs": []
    },
    {
      "cell_type": "code",
      "metadata": {
        "id": "21-MxoIMOKzz",
        "colab_type": "code",
        "colab": {}
      },
      "source": [
        "#import statsmodels.api as sm\n",
        "#X_test_new=X_test[['Horsepower','Weight','Wheelbase','Length']]\n",
        "#adding a constant variable\n",
        "#X_test_new=sm.add_constant(X_test_new)"
      ],
      "execution_count": 0,
      "outputs": []
    },
    {
      "cell_type": "code",
      "metadata": {
        "id": "chR6WCEsOKz2",
        "colab_type": "code",
        "outputId": "b5f410ac-02ed-4751-e008-f9bbc7c25138",
        "colab": {}
      },
      "source": [
        "X_test"
      ],
      "execution_count": 0,
      "outputs": [
        {
          "output_type": "execute_result",
          "data": {
            "text/plain": [
              "array([[ 168.,   19.,   25., 3470.,  107.,  179.],\n",
              "       [ 127.,   32.,   37., 2601.,  103.,  175.],\n",
              "       [ 240.,   18.,   28., 3909.,  114.,  207.],\n",
              "       [ 240.,   18.,   25., 4175.,  124.,  204.],\n",
              "       [ 220.,   17.,   26., 3583.,  104.,  179.],\n",
              "       [ 155.,   25.,   31., 2676.,   98.,  171.],\n",
              "       [ 194.,   17.,   26., 3651.,  108.,  192.],\n",
              "       [ 130.,   29.,   36., 2701.,  102.,  172.],\n",
              "       [ 215.,   19.,   27., 3450.,  107.,  178.],\n",
              "       [ 227.,   18.,   25., 3516.,  107.,  184.],\n",
              "       [ 180.,   20.,   28., 3131.,   95.,  159.],\n",
              "       [ 140.,   24.,   32., 2946.,  107.,  187.],\n",
              "       [ 130.,   26.,   33., 2612.,  103.,  168.],\n",
              "       [ 208.,   20.,   28., 3576.,  110.,  190.],\n",
              "       [ 225.,   20.,   29., 3460.,  107.,  191.],\n",
              "       [ 288.,   14.,   17., 4874.,  111.,  183.],\n",
              "       [ 165.,   22.,   28., 2965.,   99.,  174.],\n",
              "       [ 235.,   13.,   17., 5590.,  112.,  193.],\n",
              "       [ 185.,   19.,   26., 3948.,  120.,  201.],\n",
              "       [ 220.,   15.,   20., 5086.,  112.,  187.],\n",
              "       [ 140.,   26.,   35., 2692.,  103.,  185.],\n",
              "       [ 235.,   18.,   26., 3777.,  115.,  192.],\n",
              "       [ 182.,   20.,   28., 3197.,  107.,  190.],\n",
              "       [ 200.,   24.,   31., 2778.,  101.,  172.],\n",
              "       [ 225.,   20.,   30., 3472.,  114.,  191.],\n",
              "       [ 260.,   17.,   25., 3347.,  101.,  183.],\n",
              "       [ 275.,   16.,   21., 4425.,  113.,  192.],\n",
              "       [ 160.,   26.,   34., 3047.,  105.,  188.],\n",
              "       [ 240.,   19.,   26., 4012.,  124.,  204.],\n",
              "       [ 220.,   20.,   27., 3561.,  109.,  192.],\n",
              "       [ 294.,   18.,   28., 3803.,  119.,  200.],\n",
              "       [ 315.,   15.,   19., 4309.,  112.,  189.],\n",
              "       [ 170.,   22.,   29., 2767.,  101.,  178.],\n",
              "       [ 140.,   24.,   33., 2771.,  104.,  182.],\n",
              "       [ 294.,   18.,   26., 3980.,  102.,  187.],\n",
              "       [ 115.,   32.,   38., 2432.,  103.,  175.],\n",
              "       [ 232.,   19.,   27., 3548.,  113.,  208.],\n",
              "       [ 170.,   20.,   29., 3085.,  107.,  187.],\n",
              "       [ 140.,   26.,   35., 2692.,  103.,  185.],\n",
              "       [ 235.,   15.,   19., 4740.,  110.,  188.],\n",
              "       [ 120.,   25.,   31., 2656.,  102.,  181.],\n",
              "       [ 160.,   21.,   24., 3468.,  101.,  167.],\n",
              "       [ 300.,   18.,   24., 3263.,  100.,  174.],\n",
              "       [ 220.,   18.,   25., 3649.,  110.,  189.],\n",
              "       [ 220.,   18.,   25., 4013.,  105.,  180.],\n",
              "       [ 220.,   21.,   29., 3470.,  106.,  190.],\n",
              "       [ 275.,   18.,   26., 3992.,  112.,  201.],\n",
              "       [ 103.,   29.,   33., 2339.,   96.,  167.],\n",
              "       [ 390.,   17.,   24., 3948.,  119.,  200.],\n",
              "       [ 215.,   18.,   25., 4440.,  119.,  201.],\n",
              "       [ 300.,   18.,   25., 3571.,  107.,  181.],\n",
              "       [ 325.,   13.,   17., 5390.,  112.,  193.],\n",
              "       [ 290.,   17.,   24., 3153.,  100.,  174.],\n",
              "       [ 150.,   22.,   29., 3101.,  103.,  169.],\n",
              "       [  73.,   60.,   66., 1850.,   95.,  155.],\n",
              "       [ 258.,   18.,   26., 2911.,   95.,  170.],\n",
              "       [ 215.,   18.,   25., 4331.,  119.,  201.],\n",
              "       [ 200.,   20.,   30., 3476.,  111.,  200.],\n",
              "       [ 230.,   18.,   24., 3935.,  107.,  185.],\n",
              "       [ 175.,   18.,   25., 3351.,  111.,  192.],\n",
              "       [ 390.,   16.,   23., 3865.,  102.,  187.],\n",
              "       [ 300.,   18.,   26., 4044.,  115.,  207.],\n",
              "       [ 140.,   26.,   35., 2751.,  103.,  185.],\n",
              "       [ 100.,   38.,   46., 3003.,   99.,  172.],\n",
              "       [ 115.,   24.,   30., 3034.,   99.,  174.],\n",
              "       [ 170.,   19.,   27., 3217.,  106.,  187.],\n",
              "       [ 200.,   23.,   32., 3315.,  106.,  188.],\n",
              "       [ 493.,   13.,   19., 4429.,  101.,  179.],\n",
              "       [ 275.,   15.,   19., 4945.,  129.,  208.],\n",
              "       [ 225.,   20.,   29., 3417.,  107.,  193.],\n",
              "       [ 117.,   36.,   44., 2500.,  103.,  175.],\n",
              "       [ 160.,   26.,   30., 2782.,  101.,  166.],\n",
              "       [ 132.,   29.,   36., 2626.,  105.,  174.],\n",
              "       [ 210.,   21.,   29., 3439.,  107.,  192.],\n",
              "       [ 210.,   21.,   30., 3700.,  105.,  182.],\n",
              "       [ 130.,   26.,   33., 2606.,  103.,  168.],\n",
              "       [ 205.,   20.,   29., 3567.,  112.,  200.],\n",
              "       [ 205.,   20.,   29., 3591.,  112.,  200.],\n",
              "       [ 200.,   22.,   30., 3297.,  106.,  188.],\n",
              "       [ 225.,   16.,   23., 4023.,  110.,  180.],\n",
              "       [ 184.,   19.,   26., 3594.,  107.,  176.],\n",
              "       [ 190.,   16.,   20., 4309.,  111.,  190.],\n",
              "       [ 225.,   18.,   24., 3880.,  115.,  197.],\n",
              "       [ 300.,   18.,   23., 3715.,  110.,  189.],\n",
              "       [ 119.,   24.,   31., 2701.,  102.,  177.],\n",
              "       [ 200.,   21.,   28., 3448.,  106.,  194.]])"
            ]
          },
          "metadata": {
            "tags": []
          },
          "execution_count": 64
        }
      ]
    },
    {
      "cell_type": "code",
      "metadata": {
        "id": "MeviawM2OKz5",
        "colab_type": "code",
        "colab": {}
      },
      "source": [
        "#make predictions\n",
        "y_pred=reg.predict(X_test)"
      ],
      "execution_count": 0,
      "outputs": []
    },
    {
      "cell_type": "code",
      "metadata": {
        "id": "cE40qUzEOKz9",
        "colab_type": "code",
        "colab": {}
      },
      "source": [
        ""
      ],
      "execution_count": 0,
      "outputs": []
    },
    {
      "cell_type": "code",
      "metadata": {
        "id": "MLAK68M7OK0A",
        "colab_type": "code",
        "colab": {}
      },
      "source": [
        ""
      ],
      "execution_count": 0,
      "outputs": []
    },
    {
      "cell_type": "code",
      "metadata": {
        "id": "lftiMtbJOK0C",
        "colab_type": "code",
        "outputId": "4b17b389-1e57-466b-a71b-45fa8f47d5cd",
        "colab": {}
      },
      "source": [
        "#model evaluating\n",
        "from sklearn.metrics import r2_score\n",
        "r2_score(y_test,y_pred)"
      ],
      "execution_count": 0,
      "outputs": [
        {
          "output_type": "execute_result",
          "data": {
            "text/plain": [
              "1.0"
            ]
          },
          "metadata": {
            "tags": []
          },
          "execution_count": 66
        }
      ]
    },
    {
      "cell_type": "code",
      "metadata": {
        "id": "q37u4jsqOK0G",
        "colab_type": "code",
        "outputId": "98068df3-505e-4dfc-aded-5cc90e65966f",
        "colab": {}
      },
      "source": [
        "#ploting the y_test and y_pred to understand the spread\n",
        "fig=plt.figure()\n",
        "plt.scatter(y_test,y_pred)\n",
        "fig.suptitle('y_test vs y_pred',fontsize=20)\n",
        "plt.xlabel('y_test',fontsize=18)\n",
        "plt.ylabel('y_pred',fontsize=16)"
      ],
      "execution_count": 0,
      "outputs": [
        {
          "output_type": "execute_result",
          "data": {
            "text/plain": [
              "Text(0, 0.5, 'y_pred')"
            ]
          },
          "metadata": {
            "tags": []
          },
          "execution_count": 67
        },
        {
          "output_type": "display_data",
          "data": {
            "image/png": "[encoded data removed]",
            "text/plain": [
              "<Figure size 432x288 with 1 Axes>"
            ]
          },
          "metadata": {
            "tags": [],
            "needs_background": "light"
          }
        }
      ]
    },
    {
      "cell_type": "code",
      "metadata": {
        "id": "n9rG7Pw4OK0I",
        "colab_type": "code",
        "colab": {}
      },
      "source": [
        "#lets change the model according to u and check........\n",
        "#change the values of random state and pred the values \n",
        "#score"
      ],
      "execution_count": 0,
      "outputs": []
    },
    {
      "cell_type": "code",
      "metadata": {
        "id": "RU9tHWmjOK0K",
        "colab_type": "code",
        "colab": {}
      },
      "source": [
        ""
      ],
      "execution_count": 0,
      "outputs": []
    }
  ]
}